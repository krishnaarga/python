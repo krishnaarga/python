{
 "cells": [
  {
   "cell_type": "code",
   "execution_count": 1,
   "id": "eb89209d-4eb7-4a4b-866e-759b52c63f6e",
   "metadata": {},
   "outputs": [],
   "source": [
    "import pandas as pd"
   ]
  },
  {
   "cell_type": "code",
   "execution_count": 3,
   "id": "e937e927-fcbe-4d46-8ebb-ad58322f893e",
   "metadata": {},
   "outputs": [
    {
     "name": "stdout",
     "output_type": "stream",
     "text": [
      "1.4.2\n"
     ]
    }
   ],
   "source": [
    "print(pd.__version__)"
   ]
  },
  {
   "cell_type": "code",
   "execution_count": 6,
   "id": "1a88ec91-af68-4af0-8137-6ccf6e829366",
   "metadata": {},
   "outputs": [
    {
     "data": {
      "text/plain": [
       "0    10\n",
       "1    45\n",
       "2    80\n",
       "dtype: int64"
      ]
     },
     "execution_count": 6,
     "metadata": {},
     "output_type": "execute_result"
    }
   ],
   "source": [
    "x = [10, 45, 80]\n",
    "\n",
    "pd.Series(x)"
   ]
  },
  {
   "cell_type": "code",
   "execution_count": 10,
   "id": "aceb3018-29cf-476a-9a07-7d92e2e6df4a",
   "metadata": {},
   "outputs": [
    {
     "data": {
      "text/plain": [
       "x    10\n",
       "y    45\n",
       "z    80\n",
       "dtype: int64"
      ]
     },
     "execution_count": 10,
     "metadata": {},
     "output_type": "execute_result"
    }
   ],
   "source": [
    "x = [10, 45, 80]\n",
    "\n",
    "pd.Series(x, index=['x', 'y', 'z'])"
   ]
  },
  {
   "cell_type": "code",
   "execution_count": 15,
   "id": "2035d2be-f2b9-4396-840f-a7b48051d15b",
   "metadata": {},
   "outputs": [
    {
     "data": {
      "text/plain": [
       "day1    10\n",
       "day2    20\n",
       "day3    30\n",
       "dtype: int64"
      ]
     },
     "execution_count": 15,
     "metadata": {},
     "output_type": "execute_result"
    }
   ],
   "source": [
    "x = {\"day1\":10, \"day2\":20, \"day3\":30}\n",
    "\n",
    "pd.Series(x)"
   ]
  },
  {
   "cell_type": "code",
   "execution_count": 26,
   "id": "cbbafd08-a488-4a5a-bc48-a2176a0cba03",
   "metadata": {},
   "outputs": [
    {
     "name": "stdout",
     "output_type": "stream",
     "text": [
      "   krishna  kanhaiya\n",
      "0       10        30\n",
      "1       50        60\n",
      "2       60        45\n"
     ]
    }
   ],
   "source": [
    "x = {\n",
    "    \"krishna\":[10, 50, 60],\n",
    "    \"kanhaiya\":[30, 60, 45]\n",
    "}\n",
    "\n",
    "y = pd.DataFrame(x)\n",
    "print(y)"
   ]
  },
  {
   "cell_type": "code",
   "execution_count": 31,
   "id": "ef97f5d6-551e-4ce4-adeb-227bbb942d2a",
   "metadata": {},
   "outputs": [
    {
     "name": "stdout",
     "output_type": "stream",
     "text": [
      "krishna     10\n",
      "kanhaiya    30\n",
      "Name: 0, dtype: int64\n"
     ]
    }
   ],
   "source": [
    "x = {\n",
    "    \"krishna\":[10, 50, 60],\n",
    "    \"kanhaiya\":[30, 60, 45]\n",
    "}\n",
    "\n",
    "y = pd.DataFrame(x)\n",
    "\n",
    "print(y.loc[0])"
   ]
  },
  {
   "cell_type": "code",
   "execution_count": 35,
   "id": "5e8aa4b2-059d-4ae4-9ef4-002a65a98f98",
   "metadata": {},
   "outputs": [
    {
     "data": {
      "text/html": [
       "<div>\n",
       "<style scoped>\n",
       "    .dataframe tbody tr th:only-of-type {\n",
       "        vertical-align: middle;\n",
       "    }\n",
       "\n",
       "    .dataframe tbody tr th {\n",
       "        vertical-align: top;\n",
       "    }\n",
       "\n",
       "    .dataframe thead th {\n",
       "        text-align: right;\n",
       "    }\n",
       "</style>\n",
       "<table border=\"1\" class=\"dataframe\">\n",
       "  <thead>\n",
       "    <tr style=\"text-align: right;\">\n",
       "      <th></th>\n",
       "      <th>krishna</th>\n",
       "      <th>kanhaiya</th>\n",
       "    </tr>\n",
       "  </thead>\n",
       "  <tbody>\n",
       "    <tr>\n",
       "      <th>day1</th>\n",
       "      <td>10</td>\n",
       "      <td>30</td>\n",
       "    </tr>\n",
       "    <tr>\n",
       "      <th>day2</th>\n",
       "      <td>50</td>\n",
       "      <td>60</td>\n",
       "    </tr>\n",
       "    <tr>\n",
       "      <th>day3</th>\n",
       "      <td>60</td>\n",
       "      <td>45</td>\n",
       "    </tr>\n",
       "  </tbody>\n",
       "</table>\n",
       "</div>"
      ],
      "text/plain": [
       "      krishna  kanhaiya\n",
       "day1       10        30\n",
       "day2       50        60\n",
       "day3       60        45"
      ]
     },
     "execution_count": 35,
     "metadata": {},
     "output_type": "execute_result"
    }
   ],
   "source": [
    "x = {\n",
    "    \"krishna\":[10, 50, 60],\n",
    "    \"kanhaiya\":[30, 60, 45]\n",
    "}\n",
    "\n",
    "pd.DataFrame(x, index = [\"day1\", \"day2\", \"day3\"])"
   ]
  },
  {
   "cell_type": "code",
   "execution_count": 36,
   "id": "76ca05c7-7604-4e9b-9dca-fcf1f67840ab",
   "metadata": {},
   "outputs": [
    {
     "name": "stdout",
     "output_type": "stream",
     "text": [
      "krishna     50\n",
      "kanhaiya    60\n",
      "Name: day2, dtype: int64\n"
     ]
    }
   ],
   "source": [
    "x = {\n",
    "    \"krishna\":[10, 50, 60],\n",
    "    \"kanhaiya\":[30, 60, 45]\n",
    "}\n",
    "\n",
    "y = pd.DataFrame(x, index = [\"day1\", \"day2\", \"day3\"])\n",
    "\n",
    "print(y.loc[\"day2\"])"
   ]
  },
  {
   "cell_type": "code",
   "execution_count": 41,
   "id": "4e7a8ca4-44ed-456f-935b-4c05826e58dd",
   "metadata": {},
   "outputs": [
    {
     "ename": "SyntaxError",
     "evalue": "(unicode error) 'unicodeescape' codec can't decode bytes in position 2-3: truncated \\UXXXXXXXX escape (539344004.py, line 1)",
     "output_type": "error",
     "traceback": [
      "\u001b[0;36m  Input \u001b[0;32mIn [41]\u001b[0;36m\u001b[0m\n\u001b[0;31m    x = pd.read_csv(\"C:\\Users\\krishnak\\Downloads\\testing-data.csv\")\u001b[0m\n\u001b[0m                                                                  ^\u001b[0m\n\u001b[0;31mSyntaxError\u001b[0m\u001b[0;31m:\u001b[0m (unicode error) 'unicodeescape' codec can't decode bytes in position 2-3: truncated \\UXXXXXXXX escape\n"
     ]
    }
   ],
   "source": [
    "x = pd.read_csv(\"C:/Users/krishnak\\Downloads\\testing-data.csv\")"
   ]
  }
 ],
 "metadata": {
  "kernelspec": {
   "display_name": "Python 3 (ipykernel)",
   "language": "python",
   "name": "python3"
  },
  "language_info": {
   "codemirror_mode": {
    "name": "ipython",
    "version": 3
   },
   "file_extension": ".py",
   "mimetype": "text/x-python",
   "name": "python",
   "nbconvert_exporter": "python",
   "pygments_lexer": "ipython3",
   "version": "3.10.5"
  }
 },
 "nbformat": 4,
 "nbformat_minor": 5
}
