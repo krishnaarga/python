{
  "metadata": {
    "kernelspec": {
      "display_name": "Pyolite",
      "language": "python",
      "name": "python"
    },
    "language_info": {
      "codemirror_mode": {
        "name": "python",
        "version": 3
      },
      "file_extension": ".py",
      "mimetype": "text/x-python",
      "name": "python",
      "nbconvert_exporter": "python",
      "pygments_lexer": "ipython3",
      "version": "3.8"
    }
  },
  "nbformat_minor": 5,
  "nbformat": 4,
  "cells": [
    {
      "cell_type": "code",
      "source": "# String Formating\nx = 'Krishna Kanhaiya'\n\nprint(\"My name is {} \\nand my age is {}\".format(x, 28))\nprint('\\n')\nprint(\"My age is {1} and my name is {0}\".format(x, 28))",
      "metadata": {
        "trusted": true
      },
      "execution_count": 112,
      "outputs": [
        {
          "name": "stdout",
          "text": "My name is Krishna Kanhaiya \nand my age is 28\n\n\nMy age is 28 and my name is Krishna Kanhaiya\n",
          "output_type": "stream"
        }
      ],
      "id": "5091f524-0d1d-412b-93c7-8ba521f88ad2"
    },
    {
      "cell_type": "code",
      "source": "# String Method\nx = ' Krishna Kanhaiya '\n\nprint(len(x))\nprint(x.upper())\nprint(x.lower())\nprint(x.strip()+' - remove white space')\nprint(x.replace(' ', '-'))\nprint(x.split(' '))",
      "metadata": {
        "trusted": true
      },
      "execution_count": 100,
      "outputs": [
        {
          "name": "stdout",
          "text": "18\n KRISHNA KANHAIYA \n krishna kanhaiya \nKrishna Kanhaiya - remove white space\n-Krishna-Kanhaiya-\n['', 'Krishna', 'Kanhaiya', '']\n",
          "output_type": "stream"
        }
      ],
      "id": "672de287-cdde-420e-87b8-28c7d0ab3743"
    },
    {
      "cell_type": "code",
      "source": "# String Slicing\nx = 'Krishna'\n\nprint(x[2:])\nprint(x[2:4])\nprint(x[:4])\nprint(x[:-1])\nprint(x[-1:])",
      "metadata": {
        "trusted": true
      },
      "execution_count": 73,
      "outputs": [
        {
          "name": "stdout",
          "text": "ishna\nis\nKris\nKrishn\na\n",
          "output_type": "stream"
        }
      ],
      "id": "23b4ae21-f411-4086-b9cc-2f6b1806c6ef"
    },
    {
      "cell_type": "code",
      "source": "# String\nprint('Krishna')\n\nx = 'Krishna'\nprint(x)\nprint(x[0])\nprint(len(x))\n\nprint('-------')\nfor y in x:\n    print(y)\n",
      "metadata": {
        "trusted": true
      },
      "execution_count": 72,
      "outputs": [
        {
          "name": "stdout",
          "text": "Krishna\nKrishna\nK\n7\n-------\nK\nr\ni\ns\nh\nn\na\n",
          "output_type": "stream"
        }
      ],
      "id": "68b2715e-44d3-4f9e-8dd1-71d3eb883580"
    },
    {
      "cell_type": "code",
      "source": "# Data Type (3)",
      "metadata": {},
      "execution_count": null,
      "outputs": [],
      "id": "a34a2f64-d28f-42de-bb56-fa6576eda416"
    },
    {
      "cell_type": "code",
      "source": "# Data Type (2)\n\n# List (Array)\nx = ['Krishna', 'Kanhaiya', 28]\nprint(type(x))\n\n# Tuple\nx = ('Krishna', 'Kanhaiya', 28)\nprint(type(x))\n\n# Dict\nx = {'name':'Krishna', 'age':28}\nprint(type(x))\n\n# Set\nx = {'Krishna', 'Kanhaiya', 28}\nprint(type(x))\n\n# Range\nx = range(6)\nprint(type(x))",
      "metadata": {
        "trusted": true
      },
      "execution_count": 52,
      "outputs": [
        {
          "name": "stdout",
          "text": "<class 'list'>\n<class 'tuple'>\n<class 'dict'>\n<class 'set'>\n<class 'range'>\n",
          "output_type": "stream"
        }
      ],
      "id": "68f27b9e-df72-4987-a6a4-98a9e8061a65"
    },
    {
      "cell_type": "code",
      "source": "# Data Type (1)\n\n# Str\nx = 'Krishna'\nprint(\"Str\")\nprint(type(x))\n\n# Int\nx = 10\nprint(\"Int\")\nprint(type(x))\n\n# Float\nx = 10.5\nprint(\"Str\")\nprint(type(x))\n\n# Complex\nx = 10j\nprint(\"Complex\")\nprint(type(x))",
      "metadata": {
        "trusted": true
      },
      "execution_count": 45,
      "outputs": [
        {
          "name": "stdout",
          "text": "Str\n<class 'str'>\nInt\n<class 'int'>\nStr\n<class 'float'>\nComplex\n<class 'complex'>\n",
          "output_type": "stream"
        }
      ],
      "id": "75b6f2d8-bd07-4d94-81cf-ee927a048860"
    },
    {
      "cell_type": "code",
      "source": "# Global Veriable\n# 1.----------\nname = 'Krishna'\n\ndef firstFunction():\n    print(\"My name is \" + name)\n    \nfirstFunction()\n\n# 2.----------\ndef secondFunction():\n    name = 'Krishna'\n    print(\"My name is \" + name)\n    \nsecondFunction()\n\n# 3.----------\ndef thirdFunction():\n    global fullName\n    fullName = 'Krishna'\n    print(\"My name is \" + name)\n    \nthirdFunction()\n\nprint(fullName)\n",
      "metadata": {
        "trusted": true
      },
      "execution_count": 34,
      "outputs": [
        {
          "name": "stdout",
          "text": "My name is Krishna\nMy name is Krishna\nMy name is Krishna\nKrishna\n",
          "output_type": "stream"
        }
      ],
      "id": "cece4f18-6909-4332-b87c-6efac27a5658"
    },
    {
      "cell_type": "code",
      "source": "one = 10\ntwo = \"10\"\nprint(one+two) # Its given error because Integer + String",
      "metadata": {
        "trusted": true
      },
      "execution_count": 27,
      "outputs": [
        {
          "ename": "<class 'TypeError'>",
          "evalue": "unsupported operand type(s) for +: 'int' and 'str'",
          "traceback": [
            "\u001b[0;31m---------------------------------------------------------------------------\u001b[0m",
            "\u001b[0;31mTypeError\u001b[0m                                 Traceback (most recent call last)",
            "Input \u001b[0;32mIn [27]\u001b[0m, in \u001b[0;36m<cell line: 3>\u001b[0;34m()\u001b[0m\n\u001b[1;32m      1\u001b[0m one \u001b[38;5;241m=\u001b[39m \u001b[38;5;241m10\u001b[39m\n\u001b[1;32m      2\u001b[0m two \u001b[38;5;241m=\u001b[39m \u001b[38;5;124m\"\u001b[39m\u001b[38;5;124m10\u001b[39m\u001b[38;5;124m\"\u001b[39m\n\u001b[0;32m----> 3\u001b[0m \u001b[38;5;28mprint\u001b[39m(\u001b[43mone\u001b[49m\u001b[38;5;241;43m+\u001b[39;49m\u001b[43mtwo\u001b[49m)\n",
            "\u001b[0;31mTypeError\u001b[0m: unsupported operand type(s) for +: 'int' and 'str'"
          ],
          "output_type": "error"
        }
      ],
      "id": "04ae2ac7-85cc-42fb-a7bd-3b66f31e3ef4"
    },
    {
      "cell_type": "code",
      "source": "x = 10\ny = 15\nprint(x+y)",
      "metadata": {
        "trusted": true
      },
      "execution_count": 20,
      "outputs": [
        {
          "name": "stdout",
          "text": "25\n",
          "output_type": "stream"
        }
      ],
      "id": "950342b5-72ef-4da6-bc36-da0019c4bd3d"
    },
    {
      "cell_type": "code",
      "source": "firstName = 'Krishna'\nlastName = 'Kanhaiya'\n\nprint(firstName, lastName)",
      "metadata": {
        "trusted": true
      },
      "execution_count": 19,
      "outputs": [
        {
          "name": "stdout",
          "text": "Krishna Kanhaiya\n",
          "output_type": "stream"
        }
      ],
      "id": "5c8ff0a6-80ab-4b9c-b5c1-435b7969dbc4"
    },
    {
      "cell_type": "code",
      "source": "name,age,height = 'Krishna', 28, 5.4\nprint(name, age, height)",
      "metadata": {
        "trusted": true
      },
      "execution_count": 17,
      "outputs": [
        {
          "name": "stdout",
          "text": "Krishna 28 5.4\n",
          "output_type": "stream"
        }
      ],
      "id": "9f4c8718-ecb1-4116-b9c8-aaf44ef61db3"
    },
    {
      "cell_type": "code",
      "source": "krishna = ['Krishna', 28, 5.4]\nname,age,height = krishna\nprint(name)\nprint(age)\nprint(height)",
      "metadata": {
        "trusted": true
      },
      "execution_count": 15,
      "outputs": [
        {
          "name": "stdout",
          "text": "Krishna\n28\n5.4\n",
          "output_type": "stream"
        }
      ],
      "id": "29a34c0b-3129-48f1-a0ce-dbac249fdd3b"
    },
    {
      "cell_type": "code",
      "source": "name = age = height = 'Krishna Kanhaiya'\nprint(name)",
      "metadata": {
        "trusted": true
      },
      "execution_count": 14,
      "outputs": [
        {
          "name": "stdout",
          "text": "Krishna Kanhaiya\n",
          "output_type": "stream"
        }
      ],
      "id": "952e8c2a-e6bf-434c-b01e-307495b8eadf"
    },
    {
      "cell_type": "code",
      "source": "name,age,height = 'Krishna', 28, 5.4\nprint(name)\nprint(age)\nprint(height)",
      "metadata": {
        "trusted": true
      },
      "execution_count": 12,
      "outputs": [
        {
          "name": "stdout",
          "text": "Krishna\n28\n5.4\n",
          "output_type": "stream"
        }
      ],
      "id": "2deba243-1e26-436d-8a8a-a6e74d1e5d6b"
    },
    {
      "cell_type": "code",
      "source": "# Veriable\nx = 10\nname = \"Krishna\"\n\nprint(x)\nprint(name)\n\nprint(type(x))\nprint(type(name))",
      "metadata": {
        "trusted": true
      },
      "execution_count": 6,
      "outputs": [
        {
          "name": "stdout",
          "text": "10\nKrishna\n<class 'int'>\n<class 'str'>\n",
          "output_type": "stream"
        }
      ],
      "id": "d7221457-b6a5-4ca3-bdd7-d50e77a3d16a"
    },
    {
      "cell_type": "code",
      "source": "# Comment\nprint('Hello World') # Display Hello World",
      "metadata": {
        "trusted": true
      },
      "execution_count": 4,
      "outputs": [
        {
          "name": "stdout",
          "text": "Hello World\n",
          "output_type": "stream"
        }
      ],
      "id": "3860f310-32b9-4d6a-898c-aa6ceb61cedd"
    }
  ]
}